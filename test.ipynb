{
 "cells": [
  {
   "cell_type": "code",
   "execution_count": 1,
   "metadata": {},
   "outputs": [
    {
     "name": "stdout",
     "output_type": "stream",
     "text": [
      "Requirement already satisfied: psycopg2 in c:\\programdata\\anaconda3\\lib\\site-packages (2.8.6)\n",
      "Note: you may need to restart the kernel to use updated packages.\n"
     ]
    }
   ],
   "source": [
    "pip install psycopg2"
   ]
  },
  {
   "cell_type": "code",
   "execution_count": 2,
   "metadata": {},
   "outputs": [],
   "source": [
    "import psycopg2\n",
    "import pandas as pd\n",
    "#from datetime import datetime\n",
    "#import pandas.io.sql as psql\n",
    "\n",
    "####################### Opening Connection with Database ####################\n",
    "\n",
    "conn = psycopg2.connect(database=\"postgres\", user = \"postgres\", password = \"pass123\", host = \"127.0.0.1\", port = \"5432\")\n",
    "cursor = conn.cursor()\n",
    "# Reaad from sql into a table and then into a DataFrame\n",
    "my_table    = pd.read_sql('select * from day_wise_offer_statistics ', conn)\n",
    "my_df= pd.DataFrame(data=my_table)\n"
   ]
  },
  {
   "cell_type": "code",
   "execution_count": 3,
   "metadata": {},
   "outputs": [
    {
     "name": "stderr",
     "output_type": "stream",
     "text": [
      "<ipython-input-3-b085fcd39067>:19: SettingWithCopyWarning: \n",
      "A value is trying to be set on a copy of a slice from a DataFrame\n",
      "\n",
      "See the caveats in the documentation: https://pandas.pydata.org/pandas-docs/stable/user_guide/indexing.html#returning-a-view-versus-a-copy\n",
      "  my_df['dod_increase'][i]=0\n"
     ]
    }
   ],
   "source": [
    "####################### Calculation and Data Processing starts here #################\n",
    "\n",
    "#Calculate the number of days an item is available on platform\n",
    "my_df['day_available'] = my_df.groupby('oid').cumcount() + 1\n",
    "\n",
    "# For a given Offer sort them in asc order of days available\n",
    "my_df.sort_values(ascending = True, by = ['oid','day_available'],inplace=True)\n",
    "my_df=my_df.reset_index().drop(columns='index',axis=1)\n",
    "\n",
    "# Calculate the weighted score based on various factors\n",
    "my_df['wt_raw_score']=0.22*my_df['chat_count']+0.15*my_df['comment_count']+0.37*my_df['deal_count']+ 0.22*my_df['favourite_count']+0.11*my_df['view_count']\n",
    "\n",
    "# Calculate the day-on-day increase in the weighted score \n",
    "my_df['dod_increase']=(my_df['wt_raw_score']-my_df['wt_raw_score'].shift(1))/(my_df['wt_raw_score'].shift(1))\n",
    "\n",
    "# Day-on-day increase metric should be reset to zero for the 1st day of every offer id\n",
    "for i in range(0,len(my_df)):\n",
    "    if (my_df['day_available'][i]==1) :\n",
    "        my_df['dod_increase'][i]=0\n",
    "    else:\n",
    "        pass\n",
    "\n",
    "# Taking the cumulative sum of the day-of-day increase by OFFER ID\n",
    "my_df['cumlt_dod_score'] = my_df.groupby(['oid'])['dod_increase'].apply(lambda x: x.cumsum())\n",
    "\n",
    "# Creating a table containing the Cumulative score for all the unique 'Available/Not sold' offer as on the n-th day \n",
    "top_scores=(my_df[(my_df['day_available'] == 7) & (my_df['available']==1)][['oid', 'vertical_id','item_type','identity_id','stat_date','day_available', 'cumlt_dod_score']].reset_index().drop(columns = 'index'))\n",
    "\n",
    "# Sorting that table to get the top cumulative scores for TRENDING OFFERS\n",
    "top_scores= top_scores.sort_values(ascending=False,by='cumlt_dod_score')\n",
    "\n",
    "# Taking the cumulative sum of the day-of-day increase by CATEGORY \n",
    "top_category_scores= top_scores.groupby(['vertical_id'])['cumlt_dod_score'].sum()\n",
    "\n",
    "# Declaring a dataframe to convert the series data into a df for easier data handling\n",
    "top_categories = pd.DataFrame(columns=['vertical_Id','top_category_score'])\n",
    "top_categories['vertical_Id']= top_category_scores.index\n",
    "top_categories['top_category_score']=top_category_scores.values\n",
    "\n",
    "# Sorting that table to get the top cumulative scores for POPULAR CATEGORIES\n",
    "top_categories = top_categories.sort_values(ascending=False,by='top_category_score')\n",
    "\n"
   ]
  },
  {
   "cell_type": "code",
   "execution_count": 4,
   "metadata": {},
   "outputs": [
    {
     "name": "stdout",
     "output_type": "stream",
     "text": [
      "   oid     vertical_id item_type identity_id   stat_date  day_available  \\\n",
      "5    4     Electronics   Product       User1  2021-05-18              7   \n",
      "0    1     Electronics   Product       User1  2021-05-18              7   \n",
      "7    6          Sports   Product       User5  2021-05-18              7   \n",
      "10   9     PestControl   Service       User4  2021-05-18              7   \n",
      "9    8  HomeAppliances   Product       User6  2021-05-18              7   \n",
      "\n",
      "    cumlt_dod_score  \n",
      "5         11.091597  \n",
      "0          8.601500  \n",
      "7          7.517018  \n",
      "10         3.277699  \n",
      "9          3.269712  \n",
      "      vertical_Id  top_category_score\n",
      "3     Electronics           19.693097\n",
      "9          Sports            7.517018\n",
      "7     PestControl            3.277699\n",
      "6  HomeAppliances            3.269712\n",
      "0           Books            3.239195\n"
     ]
    }
   ],
   "source": [
    "####################### Output of Top 5 Trending Offers and Popular Categories #########################\n",
    "\n",
    "top_scores= top_scores.head(5)\n",
    "top_categories= top_categories.head(5)\n",
    "\n",
    "print (top_scores)\n",
    "print (top_categories)\n",
    "\n",
    "######## To write back to an excel sheet ######       \n",
    "#my_df.to_csv('C:/Users/admin/Desktop/Work/Trending Popular/from_postgresql.csv')\n",
    "#print (my_df[['oid','day_available','available','wt_raw_score','dod_increase','cumlt_dod_score']].head(40))\n",
    "# short_df= my_df[['oid','vertical_id','day_available','available','wt_raw_score','dod_increase','cumlt_dod_score']]\n",
    "# short_df.to_csv('C:/Users/admin/Desktop/Work/Trending Popular/calculated_cols.csv')\n"
   ]
  },
  {
   "cell_type": "code",
   "execution_count": 5,
   "metadata": {},
   "outputs": [
    {
     "name": "stdout",
     "output_type": "stream",
     "text": [
      "oid,vertical_id,item_type,identity_id,stat_date,day_available,cumlt_dod_score\n"
     ]
    }
   ],
   "source": [
    "####################### Opening SQL connection to write back the results of TRENDING OFFER to the database #################\n",
    "\n",
    "connection = psycopg2.connect(database=\"postgres\", user = \"postgres\", password = \"pass123\", host = \"127.0.0.1\", port = \"5432\")\n",
    "cursor = connection.cursor()\n",
    "cols = \",\".join([str(i) for i in top_scores.columns.tolist()])\n",
    "print (cols)\n",
    "####### Comment out this portion once the table update is complete #####\n",
    "\n",
    "# for i,row in top_scores.iterrows():\n",
    "#     sql = \"INSERT INTO trending_offer (\" +cols + \") VALUES (\" + \"%s,\"*(len(row)-1) + \"%s)\"\n",
    "#     cursor.execute(sql, tuple(row))\n",
    "#connection.commit()"
   ]
  },
  {
   "cell_type": "code",
   "execution_count": 6,
   "metadata": {},
   "outputs": [
    {
     "name": "stdout",
     "output_type": "stream",
     "text": [
      "vertical_Id,top_category_score\n"
     ]
    }
   ],
   "source": [
    "####################### Opening SQL connection to write back the results of POPULAR CATEGORIES to the database #################\n",
    "\n",
    "connection = psycopg2.connect(database=\"postgres\", user = \"postgres\", password = \"pass123\", host = \"127.0.0.1\", port = \"5432\")\n",
    "cursor = connection.cursor()\n",
    "cols = \",\".join([str(i) for i in top_categories.columns.tolist()])\n",
    "print (cols)\n",
    "####### Comment out this portion once the table update is complete #####\n",
    "# for i,row in top_categories.iterrows():\n",
    "#     sql = \"INSERT INTO popular_categories (\" +cols + \") VALUES (\" + \"%s,\"*(len(row)-1) + \"%s)\"\n",
    "#     cursor.execute(sql, tuple(row))\n",
    "connection.commit()"
   ]
  }
 ],
 "metadata": {
  "kernelspec": {
   "display_name": "Python 3",
   "language": "python",
   "name": "python3"
  },
  "language_info": {
   "codemirror_mode": {
    "name": "ipython",
    "version": 3
   },
   "file_extension": ".py",
   "mimetype": "text/x-python",
   "name": "python",
   "nbconvert_exporter": "python",
   "pygments_lexer": "ipython3",
   "version": "3.8.5"
  }
 },
 "nbformat": 4,
 "nbformat_minor": 4
}
